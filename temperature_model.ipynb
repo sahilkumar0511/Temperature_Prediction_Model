{
 "cells": [
  {
   "cell_type": "code",
   "execution_count": 1,
   "id": "1fb705cc",
   "metadata": {},
   "outputs": [],
   "source": [
    "import numpy as np"
   ]
  },
  {
   "cell_type": "code",
   "execution_count": 2,
   "id": "f38d7272",
   "metadata": {},
   "outputs": [],
   "source": [
    "import pandas as pd"
   ]
  },
  {
   "cell_type": "code",
   "execution_count": 3,
   "id": "d3386b25",
   "metadata": {},
   "outputs": [
    {
     "data": {
      "text/html": [
       "<div>\n",
       "<style scoped>\n",
       "    .dataframe tbody tr th:only-of-type {\n",
       "        vertical-align: middle;\n",
       "    }\n",
       "\n",
       "    .dataframe tbody tr th {\n",
       "        vertical-align: top;\n",
       "    }\n",
       "\n",
       "    .dataframe thead th {\n",
       "        text-align: right;\n",
       "    }\n",
       "</style>\n",
       "<table border=\"1\" class=\"dataframe\">\n",
       "  <thead>\n",
       "    <tr style=\"text-align: right;\">\n",
       "      <th></th>\n",
       "      <th>Humidity</th>\n",
       "      <th>Temperature</th>\n",
       "    </tr>\n",
       "  </thead>\n",
       "  <tbody>\n",
       "    <tr>\n",
       "      <th>0</th>\n",
       "      <td>0.596606</td>\n",
       "      <td>13.182462</td>\n",
       "    </tr>\n",
       "    <tr>\n",
       "      <th>1</th>\n",
       "      <td>0.656572</td>\n",
       "      <td>8.156680</td>\n",
       "    </tr>\n",
       "    <tr>\n",
       "      <th>2</th>\n",
       "      <td>0.141856</td>\n",
       "      <td>32.713142</td>\n",
       "    </tr>\n",
       "    <tr>\n",
       "      <th>3</th>\n",
       "      <td>0.757360</td>\n",
       "      <td>6.282035</td>\n",
       "    </tr>\n",
       "    <tr>\n",
       "      <th>4</th>\n",
       "      <td>0.613228</td>\n",
       "      <td>12.675158</td>\n",
       "    </tr>\n",
       "    <tr>\n",
       "      <th>...</th>\n",
       "      <td>...</td>\n",
       "      <td>...</td>\n",
       "    </tr>\n",
       "    <tr>\n",
       "      <th>295</th>\n",
       "      <td>0.615160</td>\n",
       "      <td>3.892790</td>\n",
       "    </tr>\n",
       "    <tr>\n",
       "      <th>296</th>\n",
       "      <td>0.524208</td>\n",
       "      <td>15.616094</td>\n",
       "    </tr>\n",
       "    <tr>\n",
       "      <th>297</th>\n",
       "      <td>0.647608</td>\n",
       "      <td>4.596190</td>\n",
       "    </tr>\n",
       "    <tr>\n",
       "      <th>298</th>\n",
       "      <td>0.410353</td>\n",
       "      <td>18.160583</td>\n",
       "    </tr>\n",
       "    <tr>\n",
       "      <th>299</th>\n",
       "      <td>0.545477</td>\n",
       "      <td>12.561416</td>\n",
       "    </tr>\n",
       "  </tbody>\n",
       "</table>\n",
       "<p>300 rows × 2 columns</p>\n",
       "</div>"
      ],
      "text/plain": [
       "     Humidity  Temperature\n",
       "0    0.596606    13.182462\n",
       "1    0.656572     8.156680\n",
       "2    0.141856    32.713142\n",
       "3    0.757360     6.282035\n",
       "4    0.613228    12.675158\n",
       "..        ...          ...\n",
       "295  0.615160     3.892790\n",
       "296  0.524208    15.616094\n",
       "297  0.647608     4.596190\n",
       "298  0.410353    18.160583\n",
       "299  0.545477    12.561416\n",
       "\n",
       "[300 rows x 2 columns]"
      ]
     },
     "execution_count": 3,
     "metadata": {},
     "output_type": "execute_result"
    }
   ],
   "source": [
    "val = pd.read_csv('dataset.csv')\n",
    "val"
   ]
  },
  {
   "cell_type": "code",
   "execution_count": 4,
   "id": "12268e45",
   "metadata": {},
   "outputs": [
    {
     "data": {
      "text/html": [
       "<div>\n",
       "<style scoped>\n",
       "    .dataframe tbody tr th:only-of-type {\n",
       "        vertical-align: middle;\n",
       "    }\n",
       "\n",
       "    .dataframe tbody tr th {\n",
       "        vertical-align: top;\n",
       "    }\n",
       "\n",
       "    .dataframe thead th {\n",
       "        text-align: right;\n",
       "    }\n",
       "</style>\n",
       "<table border=\"1\" class=\"dataframe\">\n",
       "  <thead>\n",
       "    <tr style=\"text-align: right;\">\n",
       "      <th></th>\n",
       "      <th>Humidity</th>\n",
       "      <th>Temperature</th>\n",
       "    </tr>\n",
       "  </thead>\n",
       "  <tbody>\n",
       "    <tr>\n",
       "      <th>0</th>\n",
       "      <td>0.596606</td>\n",
       "      <td>13.182462</td>\n",
       "    </tr>\n",
       "    <tr>\n",
       "      <th>1</th>\n",
       "      <td>0.656572</td>\n",
       "      <td>8.156680</td>\n",
       "    </tr>\n",
       "    <tr>\n",
       "      <th>2</th>\n",
       "      <td>0.141856</td>\n",
       "      <td>32.713142</td>\n",
       "    </tr>\n",
       "    <tr>\n",
       "      <th>3</th>\n",
       "      <td>0.757360</td>\n",
       "      <td>6.282035</td>\n",
       "    </tr>\n",
       "    <tr>\n",
       "      <th>4</th>\n",
       "      <td>0.613228</td>\n",
       "      <td>12.675158</td>\n",
       "    </tr>\n",
       "    <tr>\n",
       "      <th>...</th>\n",
       "      <td>...</td>\n",
       "      <td>...</td>\n",
       "    </tr>\n",
       "    <tr>\n",
       "      <th>295</th>\n",
       "      <td>0.615160</td>\n",
       "      <td>3.892790</td>\n",
       "    </tr>\n",
       "    <tr>\n",
       "      <th>296</th>\n",
       "      <td>0.524208</td>\n",
       "      <td>15.616094</td>\n",
       "    </tr>\n",
       "    <tr>\n",
       "      <th>297</th>\n",
       "      <td>0.647608</td>\n",
       "      <td>4.596190</td>\n",
       "    </tr>\n",
       "    <tr>\n",
       "      <th>298</th>\n",
       "      <td>0.410353</td>\n",
       "      <td>18.160583</td>\n",
       "    </tr>\n",
       "    <tr>\n",
       "      <th>299</th>\n",
       "      <td>0.545477</td>\n",
       "      <td>12.561416</td>\n",
       "    </tr>\n",
       "  </tbody>\n",
       "</table>\n",
       "<p>300 rows × 2 columns</p>\n",
       "</div>"
      ],
      "text/plain": [
       "     Humidity  Temperature\n",
       "0    0.596606    13.182462\n",
       "1    0.656572     8.156680\n",
       "2    0.141856    32.713142\n",
       "3    0.757360     6.282035\n",
       "4    0.613228    12.675158\n",
       "..        ...          ...\n",
       "295  0.615160     3.892790\n",
       "296  0.524208    15.616094\n",
       "297  0.647608     4.596190\n",
       "298  0.410353    18.160583\n",
       "299  0.545477    12.561416\n",
       "\n",
       "[300 rows x 2 columns]"
      ]
     },
     "execution_count": 4,
     "metadata": {},
     "output_type": "execute_result"
    }
   ],
   "source": [
    "s = val.dropna()\n",
    "s"
   ]
  },
  {
   "cell_type": "code",
   "execution_count": 5,
   "id": "745545df",
   "metadata": {},
   "outputs": [
    {
     "data": {
      "text/html": [
       "<div>\n",
       "<style scoped>\n",
       "    .dataframe tbody tr th:only-of-type {\n",
       "        vertical-align: middle;\n",
       "    }\n",
       "\n",
       "    .dataframe tbody tr th {\n",
       "        vertical-align: top;\n",
       "    }\n",
       "\n",
       "    .dataframe thead th {\n",
       "        text-align: right;\n",
       "    }\n",
       "</style>\n",
       "<table border=\"1\" class=\"dataframe\">\n",
       "  <thead>\n",
       "    <tr style=\"text-align: right;\">\n",
       "      <th></th>\n",
       "      <th>Humidity</th>\n",
       "    </tr>\n",
       "  </thead>\n",
       "  <tbody>\n",
       "    <tr>\n",
       "      <th>0</th>\n",
       "      <td>0.596606</td>\n",
       "    </tr>\n",
       "    <tr>\n",
       "      <th>1</th>\n",
       "      <td>0.656572</td>\n",
       "    </tr>\n",
       "    <tr>\n",
       "      <th>2</th>\n",
       "      <td>0.141856</td>\n",
       "    </tr>\n",
       "    <tr>\n",
       "      <th>3</th>\n",
       "      <td>0.757360</td>\n",
       "    </tr>\n",
       "    <tr>\n",
       "      <th>4</th>\n",
       "      <td>0.613228</td>\n",
       "    </tr>\n",
       "    <tr>\n",
       "      <th>...</th>\n",
       "      <td>...</td>\n",
       "    </tr>\n",
       "    <tr>\n",
       "      <th>295</th>\n",
       "      <td>0.615160</td>\n",
       "    </tr>\n",
       "    <tr>\n",
       "      <th>296</th>\n",
       "      <td>0.524208</td>\n",
       "    </tr>\n",
       "    <tr>\n",
       "      <th>297</th>\n",
       "      <td>0.647608</td>\n",
       "    </tr>\n",
       "    <tr>\n",
       "      <th>298</th>\n",
       "      <td>0.410353</td>\n",
       "    </tr>\n",
       "    <tr>\n",
       "      <th>299</th>\n",
       "      <td>0.545477</td>\n",
       "    </tr>\n",
       "  </tbody>\n",
       "</table>\n",
       "<p>300 rows × 1 columns</p>\n",
       "</div>"
      ],
      "text/plain": [
       "     Humidity\n",
       "0    0.596606\n",
       "1    0.656572\n",
       "2    0.141856\n",
       "3    0.757360\n",
       "4    0.613228\n",
       "..        ...\n",
       "295  0.615160\n",
       "296  0.524208\n",
       "297  0.647608\n",
       "298  0.410353\n",
       "299  0.545477\n",
       "\n",
       "[300 rows x 1 columns]"
      ]
     },
     "execution_count": 5,
     "metadata": {},
     "output_type": "execute_result"
    }
   ],
   "source": [
    "x = s.drop('Temperature',axis=1)\n",
    "x"
   ]
  },
  {
   "cell_type": "code",
   "execution_count": 6,
   "id": "109ac15b",
   "metadata": {},
   "outputs": [],
   "source": [
    "y = s['Temperature']"
   ]
  },
  {
   "cell_type": "code",
   "execution_count": 7,
   "id": "6d195185",
   "metadata": {},
   "outputs": [
    {
     "name": "stdout",
     "output_type": "stream",
     "text": [
      "Requirement already satisfied: scikit-learn in c:\\users\\kiit\\anaconda3\\lib\\site-packages (1.0.2)\n",
      "Requirement already satisfied: joblib>=0.11 in c:\\users\\kiit\\anaconda3\\lib\\site-packages (from scikit-learn) (1.1.0)\n",
      "Requirement already satisfied: threadpoolctl>=2.0.0 in c:\\users\\kiit\\anaconda3\\lib\\site-packages (from scikit-learn) (2.2.0)\n",
      "Requirement already satisfied: scipy>=1.1.0 in c:\\users\\kiit\\anaconda3\\lib\\site-packages (from scikit-learn) (1.7.3)\n",
      "Requirement already satisfied: numpy>=1.14.6 in c:\\users\\kiit\\anaconda3\\lib\\site-packages (from scikit-learn) (1.21.5)\n"
     ]
    }
   ],
   "source": [
    "!pip install scikit-learn"
   ]
  },
  {
   "cell_type": "code",
   "execution_count": 8,
   "id": "ff4b9801",
   "metadata": {},
   "outputs": [],
   "source": [
    "from sklearn.model_selection import train_test_split"
   ]
  },
  {
   "cell_type": "code",
   "execution_count": 9,
   "id": "c8803714",
   "metadata": {},
   "outputs": [
    {
     "data": {
      "text/plain": [
       "[     Humidity\n",
       " 30   0.324386\n",
       " 245  0.621502\n",
       " 42   0.596708\n",
       " 298  0.410353\n",
       " 175  0.616086\n",
       " ..        ...\n",
       " 60   0.443878\n",
       " 285  0.430729\n",
       " 122  0.845909\n",
       " 288  0.300962\n",
       " 248  0.620262\n",
       " \n",
       " [298 rows x 1 columns],\n",
       "      Humidity\n",
       " 299  0.545477\n",
       " 216  0.734919,\n",
       " 30     32.037587\n",
       " 245    10.225213\n",
       " 42      8.940113\n",
       " 298    18.160583\n",
       " 175     7.409706\n",
       "          ...    \n",
       " 60     30.059068\n",
       " 285    16.473106\n",
       " 122    -2.156320\n",
       " 288    31.292229\n",
       " 248     8.530652\n",
       " Name: Temperature, Length: 298, dtype: float64,\n",
       " 299    12.561416\n",
       " 216    14.265156\n",
       " Name: Temperature, dtype: float64]"
      ]
     },
     "execution_count": 9,
     "metadata": {},
     "output_type": "execute_result"
    }
   ],
   "source": [
    "train_test_split(x, y, test_size=2)"
   ]
  },
  {
   "cell_type": "code",
   "execution_count": 10,
   "id": "c514385a",
   "metadata": {},
   "outputs": [],
   "source": [
    "from sklearn.linear_model import LinearRegression"
   ]
  },
  {
   "cell_type": "code",
   "execution_count": 11,
   "id": "74c895db",
   "metadata": {},
   "outputs": [],
   "source": [
    "model = LinearRegression()"
   ]
  },
  {
   "cell_type": "code",
   "execution_count": 12,
   "id": "c38c6d1f",
   "metadata": {},
   "outputs": [
    {
     "data": {
      "text/plain": [
       "LinearRegression()"
      ]
     },
     "execution_count": 12,
     "metadata": {},
     "output_type": "execute_result"
    }
   ],
   "source": [
    "model.fit(x, y)"
   ]
  },
  {
   "cell_type": "code",
   "execution_count": 13,
   "id": "068248e3",
   "metadata": {},
   "outputs": [
    {
     "data": {
      "text/plain": [
       "0.7937302615563012"
      ]
     },
     "execution_count": 13,
     "metadata": {},
     "output_type": "execute_result"
    }
   ],
   "source": [
    "model.score(x, y)"
   ]
  },
  {
   "cell_type": "code",
   "execution_count": 14,
   "id": "f6948e10",
   "metadata": {},
   "outputs": [],
   "source": [
    "ypred = model.predict(x)"
   ]
  },
  {
   "cell_type": "code",
   "execution_count": 15,
   "id": "8d0dfb69",
   "metadata": {},
   "outputs": [
    {
     "data": {
      "text/plain": [
       "array([ 1.14179527e+01,  7.89818798e+00,  3.81098398e+01,  1.98233451e+00,\n",
       "        1.04423041e+01, -1.22596000e+01,  2.42693805e+01, -1.41885857e+00,\n",
       "        3.78017986e+01,  1.46906263e+01,  2.28926229e+01,  8.99114412e+00,\n",
       "        1.66318494e+01,  2.37443024e+01,  3.10115500e+01,  1.37823058e+01,\n",
       "        2.14688319e+01,  2.96885028e+01,  7.84012625e-01,  1.79628027e+01,\n",
       "        2.67295759e+01,  3.44571393e+01,  1.96764743e+01,  1.18137241e+01,\n",
       "        5.55521693e+00,  1.32478527e+01,  1.34277539e+01,  1.66532617e+01,\n",
       "        2.36608672e+01,  2.69109332e+01,  2.73960860e+01,  3.56360484e+00,\n",
       "        1.48792551e+01,  7.98944372e+00,  2.28523216e+01,  2.31178526e+01,\n",
       "        1.44031503e+00,  3.29747959e+01,  1.49775656e+01,  2.05106485e+01,\n",
       "        2.05830744e+01,  1.51483220e+01,  1.14119536e+01,  1.90450946e+01,\n",
       "        2.01243859e+01,  3.64791211e+01,  1.42593112e+01,  8.20102160e+00,\n",
       "        1.17009736e+01,  2.15144549e+01,  1.81458755e+01,  8.22544727e+00,\n",
       "        1.49130938e+01,  1.07679513e+01,  2.50631107e+01,  1.06112250e+01,\n",
       "        2.24990551e+01,  2.73134453e+01,  1.99437335e+01, -6.23587540e+00,\n",
       "        2.03823996e+01,  1.74524264e+01,  1.65612009e+01,  5.32406101e+00,\n",
       "        1.57951829e+01,  4.14875007e+01,  2.10510919e+01,  1.24785134e+01,\n",
       "        1.28155710e+01,  2.24578945e+01,  1.59040757e+01,  4.84407124e+00,\n",
       "        3.58673192e+01,  2.91386691e+00,  1.07191935e+01,  2.61817681e+01,\n",
       "        3.57915839e+01,  2.57865821e+01,  1.09256519e+01,  1.82385706e+01,\n",
       "        1.75250377e+00,  1.34714715e+00,  2.79504810e+01,  5.44414372e+00,\n",
       "        2.19024413e+01,  1.87980530e+01,  3.40530895e+01,  1.34383841e+01,\n",
       "        1.55042097e+01,  1.17092204e+01,  1.62863978e+01,  1.30369471e+01,\n",
       "       -2.89145406e+00,  2.25938482e+01,  9.31839484e+00,  8.97603577e+00,\n",
       "        2.68975011e+01,  3.19020101e+01,  4.03983579e+00,  6.48762483e+00,\n",
       "        1.11920388e+01,  9.00995019e+00,  2.05677775e+01,  5.09963298e+00,\n",
       "        3.49886375e+01,  1.62536566e+01,  2.62092738e+01,  1.14680538e+01,\n",
       "       -9.88831491e+00,  5.79541757e+00, -2.80690313e+00,  8.76918918e+00,\n",
       "        1.47957578e+01,  2.69603300e+00,  5.27736892e+00,  1.21667181e+01,\n",
       "        2.15596543e+01,  1.82483514e+01,  2.25049383e+01,  1.37929495e+01,\n",
       "        8.27884282e+00,  6.17507805e+00, -3.21513115e+00,  2.49011843e+01,\n",
       "        1.59714076e+01,  1.62033838e+01,  1.49059093e+01,  2.27871495e+01,\n",
       "        3.74810770e+00,  1.96226057e+01,  1.02798388e+01,  1.54986129e+01,\n",
       "        1.80059355e+01,  5.17961497e+00,  2.07849368e+01, -3.58350026e+00,\n",
       "        1.57215427e+00,  4.25734570e+00,  1.10774146e+01, -6.27442732e+00,\n",
       "        2.42299413e+01,  3.04112455e+01,  6.67678644e+00,  1.63769559e+01,\n",
       "        2.37347322e+01,  6.62060225e+00,  1.37152433e+01,  2.91132936e+01,\n",
       "        3.93400723e+00, -2.69354631e+00,  2.11654719e+01,  1.45085985e+01,\n",
       "        2.18337814e+01,  2.77741386e+01,  2.04629288e+01,  1.55593020e+01,\n",
       "        3.54016705e+01,  9.89712977e+00,  8.83984211e+00,  2.47762313e+01,\n",
       "        3.32502689e+00, -8.26482506e+00,  1.74917950e+01,  7.59647444e+00,\n",
       "        2.06782941e+01,  1.61767487e+01,  2.69646212e+01,  8.45510662e+00,\n",
       "        1.40062538e+01,  1.55891604e+01,  2.63947091e+01, -4.48611990e-02,\n",
       "        2.01629511e+01, -1.57943785e+00,  1.36858618e+01,  1.02745065e+01,\n",
       "        2.36249504e+01,  2.30732483e+01,  1.71448633e+00,  1.08905719e+01,\n",
       "        2.77371700e+01,  7.74294672e+00,  2.54715742e+01,  2.23051805e+01,\n",
       "        1.46011019e+01,  1.26776323e+01,  3.21447444e+01,  2.75813387e+01,\n",
       "        2.56654665e+01,  1.90376415e+01,  2.23538536e+01,  1.82481303e+01,\n",
       "        1.72924077e+01,  4.05249166e+00,  1.38775574e+01,  7.07908471e+00,\n",
       "        6.89650255e+00,  1.27059735e+01,  3.03054045e+01,  1.82465118e+01,\n",
       "        9.48815808e+00,  2.54865554e+01,  1.69334292e+01, -3.72202290e+00,\n",
       "        1.71010503e+01,  1.14171610e+01,  1.42199474e+01,  2.51627760e+01,\n",
       "        7.78448696e+00,  2.16165081e+01,  1.54422432e+01,  1.77411297e+00,\n",
       "        1.86173901e+01,  3.82028196e+01,  2.27186421e+01,  1.14162241e+01,\n",
       "        3.29954048e+00,  8.16325386e+00,  2.15358215e+01,  3.03868069e+01,\n",
       "        7.61273570e+00,  4.67580639e+00,  1.32679301e+01,  1.97195351e+01,\n",
       "        1.35558585e+01,  2.10350490e+01,  8.30344669e+00, -9.25850960e+00,\n",
       "        1.80699003e+01,  9.92337482e+00,  5.63941063e+00,  1.46206810e+01,\n",
       "        1.66593088e+01,  9.35785913e+00,  7.52293391e+00,  2.00383639e+01,\n",
       "        8.97525846e+00,  4.64361854e+01,  2.03932911e+01,  1.15455519e+01,\n",
       "        1.27890078e+01,  1.45002668e+01,  2.61088660e+00,  6.49112897e+00,\n",
       "        3.78250578e+00,  9.95665152e+00,  9.48424418e+00,  1.53580200e+01,\n",
       "        1.00294369e+01,  7.03567660e+00,  1.36417035e+01,  3.69408099e+00,\n",
       "        2.39682632e+01,  2.01427224e+01,  2.35008824e+01,  1.34236947e+01,\n",
       "        1.48110187e+01,  1.58405357e+01,  1.54692673e+01,  6.46696814e+00,\n",
       "        3.59254286e+00,  1.53520812e+01,  1.66742123e+01,  6.43729842e+00,\n",
       "        3.93651683e+00,  1.86317620e+01,  1.99607584e+01,  2.54107399e+01,\n",
       "        4.50718044e+00,  2.19224082e+01, -8.80249375e-01, -5.26620594e+00,\n",
       "        2.79116370e+01,  2.01523375e+01,  1.54166815e+01,  1.51071432e+01,\n",
       "        1.35798069e+01,  9.50084546e+00,  1.47229174e+01,  2.23910204e+01,\n",
       "        7.55022434e+00,  9.05036975e+00,  3.54601299e+01,  1.93267097e+01,\n",
       "       -6.33500900e+00,  2.11542097e+01, -8.06161908e+00,  1.96170601e+01,\n",
       "        2.87709965e+01,  1.85951630e+01,  1.45736953e+01,  1.66390511e+01,\n",
       "        1.19231914e+01,  2.27639059e+01,  1.97233570e+01,  1.03288988e+01,\n",
       "        1.56673929e+01,  8.42434522e+00,  2.23501728e+01,  1.44189978e+01])"
      ]
     },
     "execution_count": 15,
     "metadata": {},
     "output_type": "execute_result"
    }
   ],
   "source": [
    "ypred"
   ]
  },
  {
   "cell_type": "code",
   "execution_count": 16,
   "id": "02ab128b",
   "metadata": {},
   "outputs": [],
   "source": [
    "import matplotlib.pyplot as plt"
   ]
  },
  {
   "cell_type": "code",
   "execution_count": 17,
   "id": "dea4633d",
   "metadata": {},
   "outputs": [
    {
     "data": {
      "text/plain": [
       "<AxesSubplot:xlabel='Temperature'>"
      ]
     },
     "execution_count": 17,
     "metadata": {},
     "output_type": "execute_result"
    },
    {
     "data": {
      "image/png": "[encoded data removed]",
      "text/plain": [
       "<Figure size 432x288 with 1 Axes>"
      ]
     },
     "metadata": {
      "needs_background": "light"
     },
     "output_type": "display_data"
    }
   ],
   "source": [
    "s.plot(x = 'Temperature', y = 'Humidity',color = \"yellow\")"
   ]
  },
  {
   "cell_type": "code",
   "execution_count": null,
   "id": "c4249dd9",
   "metadata": {},
   "outputs": [],
   "source": [
    "model.p"
   ]
  },
  {
   "cell_type": "code",
   "execution_count": null,
   "id": "4e0562c9",
   "metadata": {},
   "outputs": [],
   "source": []
  },
  {
   "cell_type": "code",
   "execution_count": null,
   "id": "9935027d",
   "metadata": {},
   "outputs": [],
   "source": []
  },
  {
   "cell_type": "code",
   "execution_count": null,
   "id": "8f306070",
   "metadata": {},
   "outputs": [],
   "source": []
  }
 ],
 "metadata": {
  "kernelspec": {
   "display_name": "Python 3 (ipykernel)",
   "language": "python",
   "name": "python3"
  },
  "language_info": {
   "codemirror_mode": {
    "name": "ipython",
    "version": 3
   },
   "file_extension": ".py",
   "mimetype": "text/x-python",
   "name": "python",
   "nbconvert_exporter": "python",
   "pygments_lexer": "ipython3",
   "version": "3.9.12"
  }
 },
 "nbformat": 4,
 "nbformat_minor": 5
}
